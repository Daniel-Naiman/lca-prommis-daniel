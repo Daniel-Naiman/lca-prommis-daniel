{
 "cells": [
  {
   "cell_type": "markdown",
   "id": "d67c5d88",
   "metadata": {},
   "source": [
    "# **<span style=\"color: black; font-size:1em;\">PrOMMiS LCA Integration: Environmental Life Cycle Assessment Using PrOMMiS Modeling Results</span>**"
   ]
  },
  {
   "cell_type": "markdown",
   "id": "abd8a7ae",
   "metadata": {},
   "source": [
    "## <span style=\"color:black; font-weight:bold\"> Introduction </span> \n",
    "\n",
    "<span style = \"color:black\">\n",
    "This document demonstrates the application of Life Cycle Assessment (LCA) methodology to the optimized results from the PrOMMiS model.  \n",
    "This Jupyter Notebook presents an example LCA application to the West Kentucky No.13 Coal Refuse Flowsheet optimized in the PrOMMiS model.\n",
    "</br>\n",
    "\n",
    "<u> Goal and Scope:</u> In this Jupyter Notebook, we use life cycle assessment to evaluate the environmental impact of Rare Earth Oxide Recovery from coal mining refuse.</br>\n",
    "As shown in the system boundary below, the scope of this work starts with the leaching of size-reduced REE-rich feedstock (REE: Rare Earth Elements) and ends with the recovery of mixed REO solids. The process consists of six main stages: 1) Mixing and Leaching, 2) Rougher Solvent Extraction, 3) Cleaner Solvent Extraction, 4) Precipitation, 5) Solid-Liquid (S/L) separation, and 6) Roasting. </br>\n",
    "It's crucial to note here that the current script does not account for:\n",
    "\n",
    "* Upstream processes leading to the production of REE-rich feedstock \n",
    "\n",
    "\n",
    "* Downstream processes leading to the separation of REE contained in the REO    \n",
    "\n",
    "<u> Main Product:</u> The main product of the flowsheet modeled in this Jupyter Notebook is Rare Earth Oxide (REO) solid.\n",
    "\n",
    "<u> Co-products or by-products:</u> None\n",
    "\n",
    "<u> Functional Unit:</u> The function unit is 1 kg of recovered REO solids\n",
    "\n",
    "<u> Allocation: </u> The evaluated flowsheet produces a single product with no intermediate co-products or by-product. As a result, there is no need for allocation in this modeling exercise.\n",
    "\n",
    "</span>\n",
    "\n",
    "<span style = \"color:black\">\n",
    "\n",
    "**Useful notes, definitions, and links:**\n",
    "- **PrOMMiS model:** Process Optimization and Modeling for Minerals Sustainability initiative, led by the U.S. Department of Energy (DOE), specifically under NETL (National Energy Technology Laboratory). The PrOMMiS source code can be accessed on github through the following repository link: [https://github.com/prommis/prommis/tree/main](https://github.com/prommis/prommis/tree/main)<br> PrOMMiS serves to optimize processing flowsheets. This Jupyter Notebook focuses on a flowsheet for the extraction of REE from coal refuse. \n",
    "\n",
    "\n",
    "- **UKy Flowsheet Code:** [https://github.com/prommis/prommis/blob/main/src/prommis/uky/uky_flowsheet.py](https://github.com/prommis/prommis/blob/main/src/prommis/uky/uky_flowsheet.py)\n",
    "\n",
    "</span>"
   ]
  },
  {
   "cell_type": "markdown",
   "id": "8e0f4143",
   "metadata": {},
   "source": [
    "<div style=\"text-align: center;\">\n",
    "    <img src=\"images/system_boundary_1.png\" width=\"1000\"/>\n",
    "</div>"
   ]
  },
  {
   "cell_type": "markdown",
   "id": "a56d543d",
   "metadata": {},
   "source": [
    "## <span style=\"color:black; font-weight:bold\"> Step 1: Import the necessary tools </span> "
   ]
  },
  {
   "cell_type": "code",
   "execution_count": 2,
   "id": "18ef7b90",
   "metadata": {},
   "outputs": [],
   "source": [
    "# import main libraries\n",
    "import pandas as pd\n",
    "import olca_schema as olca\n",
    "\n",
    "from netlolca.NetlOlca import NetlOlca\n",
    "\n",
    "import prommis.uky.uky_flowsheet as uky # module to run the PrOMMiS model\n",
    "import src as lca_prommis"
   ]
  },
  {
   "cell_type": "markdown",
   "id": "09353951-5a15-459f-a25d-23c95a19cf55",
   "metadata": {},
   "source": [
    "## <span style=\"color:black; font-weight:bold\"> Step 2: Run PrOMMiS Optimization Model for the UKy flowsheet and extract model results  </span> "
   ]
  },
  {
   "cell_type": "code",
   "execution_count": null,
   "id": "9f0e9790",
   "metadata": {},
   "outputs": [],
   "source": [
    "# Run UKy flowsheet, and get prommis model\n",
    "m, _ = uky.main() \n",
    "\n",
    "# Extract LCA data\n",
    "prommis_data = lca_prommis.data_lca.get_lca_df(m)\n",
    "prommis_data.to_csv(\"output/lca_df.csv\")"
   ]
  },
  {
   "cell_type": "markdown",
   "id": "bab72eee",
   "metadata": {},
   "source": [
    "## <span style=\"color:black; font-weight:bold\"> Step 3: Review PrOMMiS Results </span> "
   ]
  },
  {
   "cell_type": "code",
   "execution_count": 13,
   "id": "63f5b88b",
   "metadata": {},
   "outputs": [
    {
     "data": {
      "text/html": [
       "<div>\n",
       "<style scoped>\n",
       "    .dataframe tbody tr th:only-of-type {\n",
       "        vertical-align: middle;\n",
       "    }\n",
       "\n",
       "    .dataframe tbody tr th {\n",
       "        vertical-align: top;\n",
       "    }\n",
       "\n",
       "    .dataframe thead th {\n",
       "        text-align: right;\n",
       "    }\n",
       "</style>\n",
       "<table border=\"1\" class=\"dataframe\">\n",
       "  <thead>\n",
       "    <tr style=\"text-align: right;\">\n",
       "      <th></th>\n",
       "      <th>Flow</th>\n",
       "      <th>Source</th>\n",
       "      <th>In/Out</th>\n",
       "      <th>Category</th>\n",
       "      <th>Value 1</th>\n",
       "      <th>Unit 1</th>\n",
       "      <th>Value 2</th>\n",
       "      <th>Unit 2</th>\n",
       "    </tr>\n",
       "  </thead>\n",
       "  <tbody>\n",
       "    <tr>\n",
       "      <th>0</th>\n",
       "      <td>Inerts</td>\n",
       "      <td>Solid Feed</td>\n",
       "      <td>In</td>\n",
       "      <td>Solid Input</td>\n",
       "      <td>22.68</td>\n",
       "      <td>kg/hr</td>\n",
       "      <td>0.6952</td>\n",
       "      <td>mass fraction</td>\n",
       "    </tr>\n",
       "    <tr>\n",
       "      <th>1</th>\n",
       "      <td>Scandium Oxide</td>\n",
       "      <td>Solid Feed</td>\n",
       "      <td>In</td>\n",
       "      <td>Solid Input</td>\n",
       "      <td>22.68</td>\n",
       "      <td>kg/hr</td>\n",
       "      <td>0.000028</td>\n",
       "      <td>mass fraction</td>\n",
       "    </tr>\n",
       "    <tr>\n",
       "      <th>2</th>\n",
       "      <td>Yttrium Oxide</td>\n",
       "      <td>Solid Feed</td>\n",
       "      <td>In</td>\n",
       "      <td>Solid Input</td>\n",
       "      <td>22.68</td>\n",
       "      <td>kg/hr</td>\n",
       "      <td>0.000033</td>\n",
       "      <td>mass fraction</td>\n",
       "    </tr>\n",
       "    <tr>\n",
       "      <th>3</th>\n",
       "      <td>Lanthanum Oxide</td>\n",
       "      <td>Solid Feed</td>\n",
       "      <td>In</td>\n",
       "      <td>Solid Input</td>\n",
       "      <td>22.68</td>\n",
       "      <td>kg/hr</td>\n",
       "      <td>0.000068</td>\n",
       "      <td>mass fraction</td>\n",
       "    </tr>\n",
       "    <tr>\n",
       "      <th>4</th>\n",
       "      <td>Cerium Oxide</td>\n",
       "      <td>Solid Feed</td>\n",
       "      <td>In</td>\n",
       "      <td>Solid Input</td>\n",
       "      <td>22.68</td>\n",
       "      <td>kg/hr</td>\n",
       "      <td>0.000156</td>\n",
       "      <td>mass fraction</td>\n",
       "    </tr>\n",
       "  </tbody>\n",
       "</table>\n",
       "</div>"
      ],
      "text/plain": [
       "              Flow      Source In/Out     Category  Value 1 Unit 1   Value 2  \\\n",
       "0           Inerts  Solid Feed     In  Solid Input    22.68  kg/hr    0.6952   \n",
       "1   Scandium Oxide  Solid Feed     In  Solid Input    22.68  kg/hr  0.000028   \n",
       "2    Yttrium Oxide  Solid Feed     In  Solid Input    22.68  kg/hr  0.000033   \n",
       "3  Lanthanum Oxide  Solid Feed     In  Solid Input    22.68  kg/hr  0.000068   \n",
       "4     Cerium Oxide  Solid Feed     In  Solid Input    22.68  kg/hr  0.000156   \n",
       "\n",
       "          Unit 2  \n",
       "0  mass fraction  \n",
       "1  mass fraction  \n",
       "2  mass fraction  \n",
       "3  mass fraction  \n",
       "4  mass fraction  "
      ]
     },
     "execution_count": 13,
     "metadata": {},
     "output_type": "execute_result"
    }
   ],
   "source": [
    "prommis_data.head()"
   ]
  },
  {
   "cell_type": "markdown",
   "id": "b2c4312d",
   "metadata": {},
   "source": [
    "## <span style=\"color:black; font-weight:bold\"> Step 4: Organize, Categorize, and Covert PrOMMiS Results to LCA Relevant Flows </span> "
   ]
  },
  {
   "cell_type": "code",
   "execution_count": 4,
   "id": "4be3e682",
   "metadata": {},
   "outputs": [
    {
     "name": "stdout",
     "output_type": "stream",
     "text": [
      "WARNING Dynamically registering the following numeric type:\n",
      "    pymatgen.core.units.FloatWithUnit\n",
      "Dynamic registration is supported for convenience, but there are known\n",
      "limitations to this approach.  We recommend explicitly registering\n",
      "numeric types using RegisterNumericType() or RegisterIntegerType().\n",
      "Applied functional unit conversion with scaling factor: 1.5965288953841737e-05\n",
      "Reference flow: 99.85% REO Product from Roaster Product\n",
      "INFO Returning C:\\Users\\franc\\AppData\\Local\\fedelemflowlist\\FedElemFlowListMaster_v1.3.0_a79846d.parquet\n",
      "Summary:\n",
      "  total_flows: 17\n",
      "  input_flows: 10\n",
      "  output_flows: 7\n",
      "  reference_products: 1\n",
      "  unique_flow_types: 9\n",
      "  total_lca_amount: 26057242.59062692\n",
      "\n",
      "Flow Type Breakdown:\n",
      "  Chemicals: 6\n",
      "  Emissions to air: 4\n",
      "  Solid Input: 1\n",
      "  Solid Output: 1\n",
      "  Electricity: 1\n",
      "  Heat: 1\n",
      "  Solid Waste: 1\n",
      "  Wastewater: 1\n",
      "  Water: 1\n"
     ]
    }
   ],
   "source": [
    "# Hours is the time period for the conversion\n",
    "# mol_to_kg is a boolean that indicates whether to convert moles to kg\n",
    "# water_unit is the unit of water (m3 or L recommended, kg is also an option)\n",
    "df = lca_prommis.convert_lca.convert_flows_to_lca_units(prommis_data, hours=1, mol_to_kg=True, water_unit='m3')\n",
    "df.to_csv('output/lca_df_converted.csv', index=False)\n",
    "\n",
    "# Finalize the LCA data\n",
    "df = pd.read_csv('output/lca_df_converted.csv')\n",
    "df = lca_prommis.final_lca.main()\n",
    "df.to_csv('output/lca_df_finalized.csv', index=False)\n",
    "\n",
    "# This will create a new datafrane and csv file that contains the initial prommis_data df with two additional columns:\n",
    "# 'LCA Amount' and 'LCA Unit'"
   ]
  },
  {
   "cell_type": "markdown",
   "id": "468b3002",
   "metadata": {},
   "source": [
    "## <span style=\"color:black; font-weight:bold\"> Step 5: Normalize Flows to the Selected Functional Unit and Review Final LCA Flows </span> "
   ]
  },
  {
   "cell_type": "code",
   "execution_count": 5,
   "id": "537e897e",
   "metadata": {},
   "outputs": [
    {
     "name": "stdout",
     "output_type": "stream",
     "text": [
      "Applied functional unit conversion with scaling factor: 1.5965288953841737e-05\n",
      "Reference flow: 99.85% REO Product from Roaster Product\n",
      "INFO Returning C:\\Users\\franc\\AppData\\Local\\fedelemflowlist\\FedElemFlowListMaster_v1.3.0_a79846d.parquet\n",
      "Summary:\n",
      "  total_flows: 17\n",
      "  input_flows: 10\n",
      "  output_flows: 7\n",
      "  reference_products: 1\n",
      "  unique_flow_types: 9\n",
      "  total_lca_amount: 26057242.59062692\n",
      "\n",
      "Flow Type Breakdown:\n",
      "  Chemicals: 6\n",
      "  Emissions to air: 4\n",
      "  Solid Input: 1\n",
      "  Solid Output: 1\n",
      "  Electricity: 1\n",
      "  Heat: 1\n",
      "  Solid Waste: 1\n",
      "  Wastewater: 1\n",
      "  Water: 1\n"
     ]
    },
    {
     "data": {
      "text/html": [
       "<div>\n",
       "<style scoped>\n",
       "    .dataframe tbody tr th:only-of-type {\n",
       "        vertical-align: middle;\n",
       "    }\n",
       "\n",
       "    .dataframe tbody tr th {\n",
       "        vertical-align: top;\n",
       "    }\n",
       "\n",
       "    .dataframe thead th {\n",
       "        text-align: right;\n",
       "    }\n",
       "</style>\n",
       "<table border=\"1\" class=\"dataframe\">\n",
       "  <thead>\n",
       "    <tr style=\"text-align: right;\">\n",
       "      <th></th>\n",
       "      <th>Flow_Name</th>\n",
       "      <th>LCA_Amount</th>\n",
       "      <th>LCA_Unit</th>\n",
       "      <th>Is_Input</th>\n",
       "      <th>Reference_Product</th>\n",
       "      <th>Flow_Type</th>\n",
       "      <th>Category</th>\n",
       "      <th>Context</th>\n",
       "      <th>UUID</th>\n",
       "      <th>Description</th>\n",
       "    </tr>\n",
       "  </thead>\n",
       "  <tbody>\n",
       "    <tr>\n",
       "      <th>0</th>\n",
       "      <td>374 ppm REO Feed</td>\n",
       "      <td>1.420741e+06</td>\n",
       "      <td>kg</td>\n",
       "      <td>True</td>\n",
       "      <td>False</td>\n",
       "      <td>Solid Input</td>\n",
       "      <td>Technosphere flows</td>\n",
       "      <td></td>\n",
       "      <td></td>\n",
       "      <td></td>\n",
       "    </tr>\n",
       "    <tr>\n",
       "      <th>1</th>\n",
       "      <td>99.85% REO Product</td>\n",
       "      <td>1.000000e+00</td>\n",
       "      <td>kg</td>\n",
       "      <td>False</td>\n",
       "      <td>True</td>\n",
       "      <td>Solid Output</td>\n",
       "      <td>Technosphere flows</td>\n",
       "      <td></td>\n",
       "      <td></td>\n",
       "      <td></td>\n",
       "    </tr>\n",
       "    <tr>\n",
       "      <th>2</th>\n",
       "      <td>Carbon dioxide</td>\n",
       "      <td>9.283150e-01</td>\n",
       "      <td>kg</td>\n",
       "      <td>False</td>\n",
       "      <td>False</td>\n",
       "      <td>Emissions to air</td>\n",
       "      <td>Elementary flows</td>\n",
       "      <td>emission/air</td>\n",
       "      <td>b6f010fb-a764-3063-af2d-bcb8309a97b7</td>\n",
       "      <td></td>\n",
       "    </tr>\n",
       "    <tr>\n",
       "      <th>3</th>\n",
       "      <td>DEHPA</td>\n",
       "      <td>7.580114e+05</td>\n",
       "      <td>kg</td>\n",
       "      <td>True</td>\n",
       "      <td>False</td>\n",
       "      <td>Chemicals</td>\n",
       "      <td>Technosphere flows</td>\n",
       "      <td></td>\n",
       "      <td></td>\n",
       "      <td></td>\n",
       "    </tr>\n",
       "    <tr>\n",
       "      <th>4</th>\n",
       "      <td>Electricity, AC, 120 V</td>\n",
       "      <td>1.628458e+03</td>\n",
       "      <td>kWh</td>\n",
       "      <td>True</td>\n",
       "      <td>False</td>\n",
       "      <td>Electricity</td>\n",
       "      <td>Technosphere flows</td>\n",
       "      <td></td>\n",
       "      <td></td>\n",
       "      <td></td>\n",
       "    </tr>\n",
       "    <tr>\n",
       "      <th>5</th>\n",
       "      <td>Heat</td>\n",
       "      <td>1.629930e+05</td>\n",
       "      <td>MJ</td>\n",
       "      <td>True</td>\n",
       "      <td>False</td>\n",
       "      <td>Heat</td>\n",
       "      <td>Technosphere flows</td>\n",
       "      <td></td>\n",
       "      <td></td>\n",
       "      <td></td>\n",
       "    </tr>\n",
       "    <tr>\n",
       "      <th>6</th>\n",
       "      <td>Hydrochloric Acid</td>\n",
       "      <td>3.754395e+03</td>\n",
       "      <td>kg</td>\n",
       "      <td>True</td>\n",
       "      <td>False</td>\n",
       "      <td>Chemicals</td>\n",
       "      <td>Technosphere flows</td>\n",
       "      <td></td>\n",
       "      <td></td>\n",
       "      <td></td>\n",
       "    </tr>\n",
       "    <tr>\n",
       "      <th>7</th>\n",
       "      <td>Kerosene</td>\n",
       "      <td>6.369844e+05</td>\n",
       "      <td>kg</td>\n",
       "      <td>True</td>\n",
       "      <td>False</td>\n",
       "      <td>Chemicals</td>\n",
       "      <td>Technosphere flows</td>\n",
       "      <td></td>\n",
       "      <td></td>\n",
       "      <td></td>\n",
       "    </tr>\n",
       "    <tr>\n",
       "      <th>8</th>\n",
       "      <td>Nitrogen</td>\n",
       "      <td>1.020383e+01</td>\n",
       "      <td>kg</td>\n",
       "      <td>False</td>\n",
       "      <td>False</td>\n",
       "      <td>Emissions to air</td>\n",
       "      <td>Elementary flows</td>\n",
       "      <td>emission/air</td>\n",
       "      <td>b11bd361-08c0-33b4-b624-2baae45ed7d8</td>\n",
       "      <td></td>\n",
       "    </tr>\n",
       "    <tr>\n",
       "      <th>9</th>\n",
       "      <td>Oxalic Acid</td>\n",
       "      <td>3.034436e+04</td>\n",
       "      <td>kg</td>\n",
       "      <td>True</td>\n",
       "      <td>False</td>\n",
       "      <td>Chemicals</td>\n",
       "      <td>Technosphere flows</td>\n",
       "      <td></td>\n",
       "      <td></td>\n",
       "      <td></td>\n",
       "    </tr>\n",
       "  </tbody>\n",
       "</table>\n",
       "</div>"
      ],
      "text/plain": [
       "                Flow_Name    LCA_Amount LCA_Unit  Is_Input  Reference_Product  \\\n",
       "0        374 ppm REO Feed  1.420741e+06       kg      True              False   \n",
       "1      99.85% REO Product  1.000000e+00       kg     False               True   \n",
       "2          Carbon dioxide  9.283150e-01       kg     False              False   \n",
       "3                   DEHPA  7.580114e+05       kg      True              False   \n",
       "4  Electricity, AC, 120 V  1.628458e+03      kWh      True              False   \n",
       "5                    Heat  1.629930e+05       MJ      True              False   \n",
       "6       Hydrochloric Acid  3.754395e+03       kg      True              False   \n",
       "7                Kerosene  6.369844e+05       kg      True              False   \n",
       "8                Nitrogen  1.020383e+01       kg     False              False   \n",
       "9             Oxalic Acid  3.034436e+04       kg      True              False   \n",
       "\n",
       "          Flow_Type            Category       Context  \\\n",
       "0       Solid Input  Technosphere flows                 \n",
       "1      Solid Output  Technosphere flows                 \n",
       "2  Emissions to air    Elementary flows  emission/air   \n",
       "3         Chemicals  Technosphere flows                 \n",
       "4       Electricity  Technosphere flows                 \n",
       "5              Heat  Technosphere flows                 \n",
       "6         Chemicals  Technosphere flows                 \n",
       "7         Chemicals  Technosphere flows                 \n",
       "8  Emissions to air    Elementary flows  emission/air   \n",
       "9         Chemicals  Technosphere flows                 \n",
       "\n",
       "                                   UUID Description  \n",
       "0                                                    \n",
       "1                                                    \n",
       "2  b6f010fb-a764-3063-af2d-bcb8309a97b7              \n",
       "3                                                    \n",
       "4                                                    \n",
       "5                                                    \n",
       "6                                                    \n",
       "7                                                    \n",
       "8  b11bd361-08c0-33b4-b624-2baae45ed7d8              \n",
       "9                                                    "
      ]
     },
     "execution_count": 5,
     "metadata": {},
     "output_type": "execute_result"
    }
   ],
   "source": [
    "# The below code will normalize the converted prommis data to a functional unit\n",
    "# Note: This code is developed for the UKy flowsheet and the functional unit is automatically set to 1 kg of REO (combination of all REEs)\n",
    "# TODO: This code should be developed for the other flowsheets. To achieve this, the user should be able to specify the desired functional unit\n",
    "df = pd.read_csv('output/lca_df_converted.csv')\n",
    "\n",
    "# Run the merge_flows function for the feed\n",
    "REO_list = [\n",
    "    \"Yttrium Oxide\",\n",
    "    \"Lanthanum Oxide\",\n",
    "    \"Cerium Oxide\",\n",
    "    \"Praseodymium Oxide\",\n",
    "    \"Neodymium Oxide\",\n",
    "    \"Samarium Oxide\",\n",
    "    \"Gadolinium Oxide\",\n",
    "    \"Dysprosium Oxide\",\n",
    "]\n",
    "df = lca_prommis.final_lca.merge_flows(df, merge_source='Solid Feed', new_flow_name='374 ppm REO Feed', value_2_merge=REO_list)\n",
    "# This 374 ppm value is directly calculated from the flowsheet. The original study actually used 357 ppm as the feed concentration.\n",
    "\n",
    "# Run the merge_flows function for the product\n",
    "df = lca_prommis.final_lca.merge_flows(df, merge_source='Roaster Product', new_flow_name='99.85% REO Product')\n",
    "\n",
    "# Run the merge_flows function for the liquid waste flows\n",
    "df = lca_prommis.final_lca.merge_flows(df, merge_source='Wastewater', new_flow_name='Wastewater', merge_column='Category') \n",
    "# Note: some of these streams are organic waste, but they're treated as wastewater\n",
    "\n",
    "# Run the merge_flows function for the solid waste flows\n",
    "df = lca_prommis.final_lca.merge_flows(df, merge_source='Solid Waste', new_flow_name='Solid Waste', merge_column='Category') \n",
    "\n",
    "# Run the finalize_df function\n",
    "try:\n",
    "    finalized_df = lca_prommis.final_lca.finalize_df(\n",
    "        df=df, \n",
    "        reference_flow='99.85% REO Product', \n",
    "        reference_source='Roaster Product',\n",
    "        water_type='raw fresh water'\n",
    "    )\n",
    "    \n",
    "    # Get summary\n",
    "    summary = lca_prommis.final_lca.get_finalize_summary(finalized_df)\n",
    "    print(\"Summary:\")\n",
    "    for key, value in summary.items():\n",
    "        if key != 'flow_type_breakdown':\n",
    "            print(f\"  {key}: {value}\")\n",
    "    \n",
    "    print(\"\\nFlow Type Breakdown:\")\n",
    "    for flow_type, count in summary['flow_type_breakdown'].items():\n",
    "        print(f\"  {flow_type}: {count}\")\n",
    "        \n",
    "except Exception as e:\n",
    "    print(f\"Error during finalization: {e}\")\n",
    "\n",
    "finalized_df.to_csv('output/lca_df_finalized.csv', index=False)\n",
    "finalized_df.head(10)"
   ]
  },
  {
   "cell_type": "markdown",
   "id": "415efae3",
   "metadata": {},
   "source": [
    "## <span style=\"color:black; font-weight:bold\"> Step 6: Connect to openLCA </span> "
   ]
  },
  {
   "cell_type": "markdown",
   "id": "40a8e272",
   "metadata": {},
   "source": [
    "#### <span style=\"color:black; font-weight:bold\"> Using this Jupyter Notebook with openLCA </span> "
   ]
  },
  {
   "cell_type": "markdown",
   "id": "1cc0faf6",
   "metadata": {},
   "source": [
    "<span style = \"color:black\">\n",
    "In the following modeling stages, this Jupyter Notebook creates an openLCA process, converts it to a product system, and calculates the environmental impacts of the flowsheet described in the introduction.  \n",
    "As a result, please follow these steps before proceeding to the next cell in this notebook:\n",
    "\n",
    "* Open openLCA on your desktop, prefereable with a version > 2.50\n",
    "\n",
    "* Download the PrOMMiS openLCA database from EDX (Next Cell). The PrOMMiS database contains all the processes and impact assessment methods needed to build and evaluate the UKy flowsheet in openLCA.\n",
    "\n",
    "* Import and open the PrOMMiS openLCA database\n",
    "\n",
    "* Connect to IPC server (Port 8080). Go to Tools > Developer Tools > IPC Server > Connect\n",
    "\n",
    "</span>\n",
    " "
   ]
  },
  {
   "cell_type": "markdown",
   "id": "06a8e497",
   "metadata": {},
   "source": [
    "#### <span style=\"color:black; font-weight:bold\"> Download PrOMMiS Database from EDX </span> "
   ]
  },
  {
   "cell_type": "markdown",
   "id": "f38b95d1",
   "metadata": {},
   "source": [
    "<span style = \"color:black\">\n",
    "The cell below downloads the PrOMMiS openLCA database from EDX in JSONLD format and save it in a dedicated 'resources' folder in the current working directory. The following cell will require your EDX API key to download the requested database. Note that the resource ID is set in the next cell but it's advised to cross-check that the ID is correct. The database is constantly being improved and updated, and as a result can have a different resource ID.  \n",
    "\n",
    "To verify that you're using the correct resource ID, follow this link: [https:/edx.netl.doe.gov/workspace/resources/prommis-lca-integration](https:/edx.netl.doe.gov/workspace/resources/prommis-lca-integration) \n",
    "</span>\n",
    " "
   ]
  },
  {
   "cell_type": "code",
   "execution_count": null,
   "id": "69dd35a1",
   "metadata": {},
   "outputs": [],
   "source": [
    "# This is the resource ID of the PrOMMiS openLCA database as of September 17, 2025\n",
    "resource_id = '07e09dfa-1928-46f0-8ced-56d0010b056f'\n",
    "\n",
    "# The function below downloads the database and saves it in a 'resources' folder in the current work directory\n",
    "lca_prommis.import_db.import_db(resource_id)"
   ]
  },
  {
   "cell_type": "markdown",
   "id": "a70b4c2f",
   "metadata": {},
   "source": [
    "#### <span style=\"color:black; font-weight:bold\"> Connect to openLCA IPC Server </span> "
   ]
  },
  {
   "cell_type": "code",
   "execution_count": 7,
   "id": "cc31e254",
   "metadata": {},
   "outputs": [
    {
     "name": "stdout",
     "output_type": "stream",
     "text": [
      "INFO Connected on http://localhost:8080\n",
      "INFO Read UUIDs from IPC connection.\n"
     ]
    }
   ],
   "source": [
    "netl = NetlOlca()\n",
    "netl.connect()\n",
    "netl.read()"
   ]
  },
  {
   "cell_type": "markdown",
   "id": "b49e1b9a",
   "metadata": {},
   "source": [
    "#### <span style=\"color:black; font-weight:bold\"> Import Exchanges Table </span> "
   ]
  },
  {
   "cell_type": "markdown",
   "id": "fe6feda5",
   "metadata": {},
   "source": [
    "<span style=\"color:black\"> \n",
    "\n",
    "</span>"
   ]
  },
  {
   "cell_type": "code",
   "execution_count": null,
   "id": "ad4f062f",
   "metadata": {},
   "outputs": [
    {
     "data": {
      "text/html": [
       "<div>\n",
       "<style scoped>\n",
       "    .dataframe tbody tr th:only-of-type {\n",
       "        vertical-align: middle;\n",
       "    }\n",
       "\n",
       "    .dataframe tbody tr th {\n",
       "        vertical-align: top;\n",
       "    }\n",
       "\n",
       "    .dataframe thead th {\n",
       "        text-align: right;\n",
       "    }\n",
       "</style>\n",
       "<table border=\"1\" class=\"dataframe\">\n",
       "  <thead>\n",
       "    <tr style=\"text-align: right;\">\n",
       "      <th></th>\n",
       "      <th>Flow_Name</th>\n",
       "      <th>LCA_Amount</th>\n",
       "      <th>LCA_Unit</th>\n",
       "      <th>Is_Input</th>\n",
       "      <th>Reference_Product</th>\n",
       "      <th>Flow_Type</th>\n",
       "      <th>Category</th>\n",
       "      <th>Context</th>\n",
       "      <th>UUID</th>\n",
       "      <th>Description</th>\n",
       "    </tr>\n",
       "  </thead>\n",
       "  <tbody>\n",
       "    <tr>\n",
       "      <th>0</th>\n",
       "      <td>374 ppm REO Feed</td>\n",
       "      <td>1.420741e+06</td>\n",
       "      <td>kg</td>\n",
       "      <td>True</td>\n",
       "      <td>False</td>\n",
       "      <td>Solid Input</td>\n",
       "      <td>Technosphere flows</td>\n",
       "      <td>NaN</td>\n",
       "      <td>NaN</td>\n",
       "      <td>NaN</td>\n",
       "    </tr>\n",
       "    <tr>\n",
       "      <th>1</th>\n",
       "      <td>99.85% REO Product</td>\n",
       "      <td>1.000000e+00</td>\n",
       "      <td>kg</td>\n",
       "      <td>False</td>\n",
       "      <td>True</td>\n",
       "      <td>Solid Output</td>\n",
       "      <td>Technosphere flows</td>\n",
       "      <td>NaN</td>\n",
       "      <td>NaN</td>\n",
       "      <td>NaN</td>\n",
       "    </tr>\n",
       "    <tr>\n",
       "      <th>2</th>\n",
       "      <td>Carbon dioxide</td>\n",
       "      <td>9.283150e-01</td>\n",
       "      <td>kg</td>\n",
       "      <td>False</td>\n",
       "      <td>False</td>\n",
       "      <td>Emissions to air</td>\n",
       "      <td>Elementary flows</td>\n",
       "      <td>emission/air</td>\n",
       "      <td>b6f010fb-a764-3063-af2d-bcb8309a97b7</td>\n",
       "      <td>NaN</td>\n",
       "    </tr>\n",
       "    <tr>\n",
       "      <th>3</th>\n",
       "      <td>DEHPA</td>\n",
       "      <td>7.580114e+05</td>\n",
       "      <td>kg</td>\n",
       "      <td>True</td>\n",
       "      <td>False</td>\n",
       "      <td>Chemicals</td>\n",
       "      <td>Technosphere flows</td>\n",
       "      <td>NaN</td>\n",
       "      <td>NaN</td>\n",
       "      <td>NaN</td>\n",
       "    </tr>\n",
       "    <tr>\n",
       "      <th>4</th>\n",
       "      <td>Electricity, AC, 120 V</td>\n",
       "      <td>1.628458e+03</td>\n",
       "      <td>kWh</td>\n",
       "      <td>True</td>\n",
       "      <td>False</td>\n",
       "      <td>Electricity</td>\n",
       "      <td>Technosphere flows</td>\n",
       "      <td>NaN</td>\n",
       "      <td>NaN</td>\n",
       "      <td>NaN</td>\n",
       "    </tr>\n",
       "    <tr>\n",
       "      <th>5</th>\n",
       "      <td>Heat</td>\n",
       "      <td>1.629930e+05</td>\n",
       "      <td>MJ</td>\n",
       "      <td>True</td>\n",
       "      <td>False</td>\n",
       "      <td>Heat</td>\n",
       "      <td>Technosphere flows</td>\n",
       "      <td>NaN</td>\n",
       "      <td>NaN</td>\n",
       "      <td>NaN</td>\n",
       "    </tr>\n",
       "    <tr>\n",
       "      <th>6</th>\n",
       "      <td>Hydrochloric Acid</td>\n",
       "      <td>3.754395e+03</td>\n",
       "      <td>kg</td>\n",
       "      <td>True</td>\n",
       "      <td>False</td>\n",
       "      <td>Chemicals</td>\n",
       "      <td>Technosphere flows</td>\n",
       "      <td>NaN</td>\n",
       "      <td>NaN</td>\n",
       "      <td>NaN</td>\n",
       "    </tr>\n",
       "    <tr>\n",
       "      <th>7</th>\n",
       "      <td>Kerosene</td>\n",
       "      <td>6.369844e+05</td>\n",
       "      <td>kg</td>\n",
       "      <td>True</td>\n",
       "      <td>False</td>\n",
       "      <td>Chemicals</td>\n",
       "      <td>Technosphere flows</td>\n",
       "      <td>NaN</td>\n",
       "      <td>NaN</td>\n",
       "      <td>NaN</td>\n",
       "    </tr>\n",
       "    <tr>\n",
       "      <th>8</th>\n",
       "      <td>Nitrogen</td>\n",
       "      <td>1.020383e+01</td>\n",
       "      <td>kg</td>\n",
       "      <td>False</td>\n",
       "      <td>False</td>\n",
       "      <td>Emissions to air</td>\n",
       "      <td>Elementary flows</td>\n",
       "      <td>emission/air</td>\n",
       "      <td>b11bd361-08c0-33b4-b624-2baae45ed7d8</td>\n",
       "      <td>NaN</td>\n",
       "    </tr>\n",
       "    <tr>\n",
       "      <th>9</th>\n",
       "      <td>Oxalic Acid</td>\n",
       "      <td>3.034436e+04</td>\n",
       "      <td>kg</td>\n",
       "      <td>True</td>\n",
       "      <td>False</td>\n",
       "      <td>Chemicals</td>\n",
       "      <td>Technosphere flows</td>\n",
       "      <td>NaN</td>\n",
       "      <td>NaN</td>\n",
       "      <td>NaN</td>\n",
       "    </tr>\n",
       "    <tr>\n",
       "      <th>10</th>\n",
       "      <td>Oxygen</td>\n",
       "      <td>1.749970e+00</td>\n",
       "      <td>kg</td>\n",
       "      <td>False</td>\n",
       "      <td>False</td>\n",
       "      <td>Emissions to air</td>\n",
       "      <td>Elementary flows</td>\n",
       "      <td>emission/air</td>\n",
       "      <td>22144b1f-4fc0-3643-953b-ede9a14e9ed4</td>\n",
       "      <td>NaN</td>\n",
       "    </tr>\n",
       "    <tr>\n",
       "      <th>11</th>\n",
       "      <td>Sodium Hydroxide</td>\n",
       "      <td>2.812488e+04</td>\n",
       "      <td>kg</td>\n",
       "      <td>True</td>\n",
       "      <td>False</td>\n",
       "      <td>Chemicals</td>\n",
       "      <td>Technosphere flows</td>\n",
       "      <td>NaN</td>\n",
       "      <td>NaN</td>\n",
       "      <td>NaN</td>\n",
       "    </tr>\n",
       "    <tr>\n",
       "      <th>12</th>\n",
       "      <td>Solid Waste</td>\n",
       "      <td>1.392959e+06</td>\n",
       "      <td>kg</td>\n",
       "      <td>False</td>\n",
       "      <td>False</td>\n",
       "      <td>Solid Waste</td>\n",
       "      <td>Waste flows</td>\n",
       "      <td>NaN</td>\n",
       "      <td>NaN</td>\n",
       "      <td>NaN</td>\n",
       "    </tr>\n",
       "    <tr>\n",
       "      <th>13</th>\n",
       "      <td>Sulfuric Acid</td>\n",
       "      <td>6.884122e+04</td>\n",
       "      <td>kg</td>\n",
       "      <td>True</td>\n",
       "      <td>False</td>\n",
       "      <td>Chemicals</td>\n",
       "      <td>Technosphere flows</td>\n",
       "      <td>NaN</td>\n",
       "      <td>NaN</td>\n",
       "      <td>NaN</td>\n",
       "    </tr>\n",
       "    <tr>\n",
       "      <th>14</th>\n",
       "      <td>Wastewater</td>\n",
       "      <td>2.154606e+07</td>\n",
       "      <td>kg</td>\n",
       "      <td>False</td>\n",
       "      <td>False</td>\n",
       "      <td>Wastewater</td>\n",
       "      <td>Waste flows</td>\n",
       "      <td>NaN</td>\n",
       "      <td>NaN</td>\n",
       "      <td>NaN</td>\n",
       "    </tr>\n",
       "    <tr>\n",
       "      <th>15</th>\n",
       "      <td>Water</td>\n",
       "      <td>1.655815e+01</td>\n",
       "      <td>kg</td>\n",
       "      <td>False</td>\n",
       "      <td>False</td>\n",
       "      <td>Emissions to air</td>\n",
       "      <td>Elementary flows</td>\n",
       "      <td>emission/air</td>\n",
       "      <td>e430eaa1-80c8-376d-a3bf-816c9a741807</td>\n",
       "      <td>NaN</td>\n",
       "    </tr>\n",
       "    <tr>\n",
       "      <th>16</th>\n",
       "      <td>Water</td>\n",
       "      <td>6.764676e+03</td>\n",
       "      <td>m3</td>\n",
       "      <td>True</td>\n",
       "      <td>False</td>\n",
       "      <td>Water</td>\n",
       "      <td>Elementary flows</td>\n",
       "      <td>resource/water</td>\n",
       "      <td>e2eb491c-78ff-3123-9e42-494c7d199b44</td>\n",
       "      <td>raw fresh water</td>\n",
       "    </tr>\n",
       "  </tbody>\n",
       "</table>\n",
       "</div>"
      ],
      "text/plain": [
       "                 Flow_Name    LCA_Amount LCA_Unit  Is_Input  \\\n",
       "0         374 ppm REO Feed  1.420741e+06       kg      True   \n",
       "1       99.85% REO Product  1.000000e+00       kg     False   \n",
       "2           Carbon dioxide  9.283150e-01       kg     False   \n",
       "3                    DEHPA  7.580114e+05       kg      True   \n",
       "4   Electricity, AC, 120 V  1.628458e+03      kWh      True   \n",
       "5                     Heat  1.629930e+05       MJ      True   \n",
       "6        Hydrochloric Acid  3.754395e+03       kg      True   \n",
       "7                 Kerosene  6.369844e+05       kg      True   \n",
       "8                 Nitrogen  1.020383e+01       kg     False   \n",
       "9              Oxalic Acid  3.034436e+04       kg      True   \n",
       "10                  Oxygen  1.749970e+00       kg     False   \n",
       "11        Sodium Hydroxide  2.812488e+04       kg      True   \n",
       "12             Solid Waste  1.392959e+06       kg     False   \n",
       "13           Sulfuric Acid  6.884122e+04       kg      True   \n",
       "14              Wastewater  2.154606e+07       kg     False   \n",
       "15                   Water  1.655815e+01       kg     False   \n",
       "16                   Water  6.764676e+03       m3      True   \n",
       "\n",
       "    Reference_Product         Flow_Type            Category         Context  \\\n",
       "0               False       Solid Input  Technosphere flows             NaN   \n",
       "1                True      Solid Output  Technosphere flows             NaN   \n",
       "2               False  Emissions to air    Elementary flows    emission/air   \n",
       "3               False         Chemicals  Technosphere flows             NaN   \n",
       "4               False       Electricity  Technosphere flows             NaN   \n",
       "5               False              Heat  Technosphere flows             NaN   \n",
       "6               False         Chemicals  Technosphere flows             NaN   \n",
       "7               False         Chemicals  Technosphere flows             NaN   \n",
       "8               False  Emissions to air    Elementary flows    emission/air   \n",
       "9               False         Chemicals  Technosphere flows             NaN   \n",
       "10              False  Emissions to air    Elementary flows    emission/air   \n",
       "11              False         Chemicals  Technosphere flows             NaN   \n",
       "12              False       Solid Waste         Waste flows             NaN   \n",
       "13              False         Chemicals  Technosphere flows             NaN   \n",
       "14              False        Wastewater         Waste flows             NaN   \n",
       "15              False  Emissions to air    Elementary flows    emission/air   \n",
       "16              False             Water    Elementary flows  resource/water   \n",
       "\n",
       "                                    UUID      Description  \n",
       "0                                    NaN              NaN  \n",
       "1                                    NaN              NaN  \n",
       "2   b6f010fb-a764-3063-af2d-bcb8309a97b7              NaN  \n",
       "3                                    NaN              NaN  \n",
       "4                                    NaN              NaN  \n",
       "5                                    NaN              NaN  \n",
       "6                                    NaN              NaN  \n",
       "7                                    NaN              NaN  \n",
       "8   b11bd361-08c0-33b4-b624-2baae45ed7d8              NaN  \n",
       "9                                    NaN              NaN  \n",
       "10  22144b1f-4fc0-3643-953b-ede9a14e9ed4              NaN  \n",
       "11                                   NaN              NaN  \n",
       "12                                   NaN              NaN  \n",
       "13                                   NaN              NaN  \n",
       "14                                   NaN              NaN  \n",
       "15  e430eaa1-80c8-376d-a3bf-816c9a741807              NaN  \n",
       "16  e2eb491c-78ff-3123-9e42-494c7d199b44  raw fresh water  "
      ]
     },
     "execution_count": 8,
     "metadata": {},
     "output_type": "execute_result"
    }
   ],
   "source": [
    "# Save the LCA data produced in previous steps in a dataframe called df\n",
    "df = pd.read_csv('output/lca_df_finalized.csv')\n",
    "df.head(5)"
   ]
  },
  {
   "cell_type": "markdown",
   "id": "65e26565",
   "metadata": {},
   "source": [
    "#### <span style=\"color:black; font-weight:bold\"> Enter Process Information </span> \n",
    "\n",
    "##### <span style=\"color:black; font-weight:bold\"> Unit Process Name </span> "
   ]
  },
  {
   "cell_type": "code",
   "execution_count": 9,
   "id": "0121e236",
   "metadata": {},
   "outputs": [],
   "source": [
    "process_name = \"Test Process 4\"  # Replace with the actual process name you want to use"
   ]
  },
  {
   "cell_type": "markdown",
   "id": "ae60c887",
   "metadata": {},
   "source": [
    "##### <span style=\"color:black; font-weight:bold\"> Unit Process Description </span> "
   ]
  },
  {
   "cell_type": "code",
   "execution_count": 10,
   "id": "46304b81",
   "metadata": {},
   "outputs": [],
   "source": [
    "process_description = \" Example Process Description\"  # Replace with the actual process description you want to use"
   ]
  },
  {
   "cell_type": "markdown",
   "id": "e4ddb03a",
   "metadata": {},
   "source": [
    "##### <span style=\"color:black; font-weight:bold\"> Create process with exchanges </span> "
   ]
  },
  {
   "cell_type": "markdown",
   "id": "9034e85e",
   "metadata": {},
   "source": [
    "<span style=\"color:black\">  \n",
    "\n",
    "The functioning features include:\n",
    "* Create a new empty process\n",
    "* Create an exchange of the reference flow\n",
    "\n",
    "Intermediate functions/features that have been developed include:\n",
    "* Search for a flow by keyword\n",
    "* Search for processes that produce a given flow\n",
    "    * This feature is being optimized to minimize user waiting time\n",
    "* Create exchanges for elementary flows given their uuid, amount, and unit\n",
    "\n",
    "The features under development:\n",
    "* Create exchange for a given flow and process IDs\n",
    "* Develop an interactive user interface, allowing the user to create a new process in openLCA\n",
    "</span>"
   ]
  },
  {
   "cell_type": "code",
   "execution_count": 11,
   "id": "db70773f",
   "metadata": {},
   "outputs": [
    {
     "name": "stdout",
     "output_type": "stream",
     "text": [
      "Creating exchange database, this may take a couple minutes...\n"
     ]
    },
    {
     "name": "stdout",
     "output_type": "stream",
     "text": [
      "Enter flow name keyword(s). Type 'skip' to skip this flow. Press enter to use 374 ppm REO Feed:  skip\n"
     ]
    },
    {
     "name": "stdout",
     "output_type": "stream",
     "text": [
      "Skipping flow: 374 ppm REO Feed\n",
      "Do you want to select an existing quantitative reference flow or create a new one?\n",
      "1. Select existing flow\n",
      "2. Create new flow\n"
     ]
    },
    {
     "name": "stdout",
     "output_type": "stream",
     "text": [
      "Enter your choice (1 or 2):  1\n",
      "Enter flow name keyword(s). Type 'skip' to skip this flow.  copper\n"
     ]
    },
    {
     "name": "stdout",
     "output_type": "stream",
     "text": [
      "Searching for flows containing 'copper'...\n",
      "Found 196 flows matching 'copper'\n",
      "Filtered to 9 PRODUCT_FLOW flows\n",
      "\n",
      "Matching flows:\n",
      "--------------------------------------------------------------------------------\n",
      "  1. copper\n",
      "     UUID: 8e7135e4-1274-9414-a155-9dc1e2fd9bb4\n",
      "\n",
      "  2. Copper, primary, at refinery\n",
      "     UUID: 018c2645-7622-321b-a9ef-760b1fd90371\n",
      "\n",
      "  3. Copper oxide, at plant\n",
      "     UUID: bc9f2a96-56a5-4219-8c61-58356a0eaabd\n",
      "\n",
      "  4. Crude cobalt hydroxide; at plant; 35% cobalt and 0.47% copper\n",
      "     UUID: 2b274bb6-ed91-4ec0-8386-07c602bd6eb9\n",
      "\n",
      "  5. Copper, at regional storage\n",
      "     UUID: 19fb905b-a259-3480-848f-af6a058a4d99\n",
      "\n",
      "  6. Copper product manufacturing, average metal working\n",
      "     UUID: 24744899-a338-3943-9f83-764d10600319\n",
      "\n",
      "  7. Copper Chromium Arsenate (CCA), at plant\n",
      "     UUID: 8d2dd2ca-07cb-3ace-b1db-6f7efff79337\n",
      "\n",
      "  8. Copper, at plant\n",
      "     UUID: 12e1296e-4e80-35e8-910a-de17402a0b9c\n",
      "\n",
      "  9. Cobalt ore; at mine; 0.47% cobalt and 2.44% copper\n",
      "     UUID: 4724dc20-fc73-4f23-83f7-12ac98f37eac\n",
      "\n",
      "  1. Flow_Name: copper | UUID: 8e7135e4-1274-9414-a155-9dc1e2fd9bb4\n",
      "  2. Flow_Name: Copper, primary, at refinery | UUID: 018c2645-7622-321b-a9ef-760b1fd90371\n",
      "  3. Flow_Name: Copper oxide, at plant | UUID: bc9f2a96-56a5-4219-8c61-58356a0eaabd\n",
      "  4. Flow_Name: Crude cobalt hydroxide; at plant; 35% cobalt and 0.47% copper | UUID: 2b274bb6-ed91-4ec0-8386-07c602bd6eb9\n",
      "  5. Flow_Name: Copper, at regional storage | UUID: 19fb905b-a259-3480-848f-af6a058a4d99\n",
      "  6. Flow_Name: Copper product manufacturing, average metal working | UUID: 24744899-a338-3943-9f83-764d10600319\n",
      "  7. Flow_Name: Copper Chromium Arsenate (CCA), at plant | UUID: 8d2dd2ca-07cb-3ace-b1db-6f7efff79337\n",
      "  8. Flow_Name: Copper, at plant | UUID: 12e1296e-4e80-35e8-910a-de17402a0b9c\n",
      "  9. Flow_Name: Cobalt ore; at mine; 0.47% cobalt and 2.44% copper | UUID: 4724dc20-fc73-4f23-83f7-12ac98f37eac\n"
     ]
    },
    {
     "name": "stdout",
     "output_type": "stream",
     "text": [
      "Select a flow (1-9 or 'q' to quit):  8\n",
      "Enter flow name keyword(s). Type 'skip' to skip this flow. Press enter to use DEHPA:  skip\n"
     ]
    },
    {
     "name": "stdout",
     "output_type": "stream",
     "text": [
      "Skipping flow: DEHPA\n"
     ]
    },
    {
     "name": "stdout",
     "output_type": "stream",
     "text": [
      "Enter flow name keyword(s). Type 'skip' to skip this flow. Press enter to use Electricity, AC, 120 V:  skip\n"
     ]
    },
    {
     "name": "stdout",
     "output_type": "stream",
     "text": [
      "Skipping flow: Electricity, AC, 120 V\n"
     ]
    },
    {
     "name": "stdout",
     "output_type": "stream",
     "text": [
      "Enter flow name keyword(s). Type 'skip' to skip this flow. Press enter to use Heat:  skip\n"
     ]
    },
    {
     "name": "stdout",
     "output_type": "stream",
     "text": [
      "Skipping flow: Heat\n"
     ]
    },
    {
     "name": "stdout",
     "output_type": "stream",
     "text": [
      "Enter flow name keyword(s). Type 'skip' to skip this flow. Press enter to use Hydrochloric Acid:  skip\n"
     ]
    },
    {
     "name": "stdout",
     "output_type": "stream",
     "text": [
      "Skipping flow: Hydrochloric Acid\n"
     ]
    },
    {
     "name": "stdout",
     "output_type": "stream",
     "text": [
      "Enter flow name keyword(s). Type 'skip' to skip this flow. Press enter to use Kerosene:  skip\n"
     ]
    },
    {
     "name": "stdout",
     "output_type": "stream",
     "text": [
      "Skipping flow: Kerosene\n"
     ]
    },
    {
     "name": "stdout",
     "output_type": "stream",
     "text": [
      "Enter flow name keyword(s). Type 'skip' to skip this flow. Press enter to use Oxalic Acid:  skip\n"
     ]
    },
    {
     "name": "stdout",
     "output_type": "stream",
     "text": [
      "Skipping flow: Oxalic Acid\n"
     ]
    },
    {
     "name": "stdout",
     "output_type": "stream",
     "text": [
      "Enter flow name keyword(s). Type 'skip' to skip this flow. Press enter to use Sodium Hydroxide:  skip\n"
     ]
    },
    {
     "name": "stdout",
     "output_type": "stream",
     "text": [
      "Skipping flow: Sodium Hydroxide\n"
     ]
    },
    {
     "name": "stdout",
     "output_type": "stream",
     "text": [
      "Enter flow name keyword(s). Type 'skip' to skip this flow. Press enter to use Solid Waste:  skip\n"
     ]
    },
    {
     "name": "stdout",
     "output_type": "stream",
     "text": [
      "Skipping flow: Solid Waste\n"
     ]
    },
    {
     "name": "stdout",
     "output_type": "stream",
     "text": [
      "Enter flow name keyword(s). Type 'skip' to skip this flow. Press enter to use Sulfuric Acid:  skip\n"
     ]
    },
    {
     "name": "stdout",
     "output_type": "stream",
     "text": [
      "Skipping flow: Sulfuric Acid\n"
     ]
    },
    {
     "name": "stdout",
     "output_type": "stream",
     "text": [
      "Enter flow name keyword(s). Type 'skip' to skip this flow. Press enter to use Wastewater:  skip\n"
     ]
    },
    {
     "name": "stdout",
     "output_type": "stream",
     "text": [
      "Skipping flow: Wastewater\n",
      "Successfully created process: Test Process 4\n",
      "Process saved successfully to openLCA database!\n"
     ]
    }
   ],
   "source": [
    "# create process usign the create_new_process function\n",
    "process = lca_prommis.create_lca.create_new_process(netl,df,process_name,process_description)\n",
    "# get the process uuid to be used in the following step when create a product system\n",
    "process_id = netl.query(olca.Process, process.id)\n",
    "# TODO: give option for the user to enter another keyword when searching for a flow\n",
    "# NOTE: For future discussion - is it better to select the flow then the provider (current status) or pick provider first then select relevant flows?"
   ]
  },
  {
   "cell_type": "markdown",
   "id": "e884dcf2",
   "metadata": {},
   "source": [
    "##### <span style=\"color:black; font-weight:bold\"> Create product system </span> "
   ]
  },
  {
   "cell_type": "code",
   "execution_count": null,
   "id": "815a15c9",
   "metadata": {},
   "outputs": [],
   "source": [
    "# create product system\n",
    "ps = lca_prommis.create_ps(netl, process_id)\n",
    "# get product system id to use in next step \n",
    "ps_uuid = netl.query(olca.ProductSystem, ps.id)"
   ]
  },
  {
   "cell_type": "markdown",
   "id": "a3ead577",
   "metadata": {},
   "source": [
    "##### <span style=\"color:black; font-weight:bold\"> Run analysis </span> "
   ]
  },
  {
   "cell_type": "code",
   "execution_count": null,
   "id": "ffbfdb01",
   "metadata": {},
   "outputs": [],
   "source": [
    "# First we need to select the impact assessment method uuid\n",
    "# In this project we are developing our own impact assessment \n",
    "# method that calculates the global warming potenit, cumulative energy demand, water consumption, and acidification potential\n",
    "# The developed method is included in the database attached with this jupyter notebook\n",
    "# TODO: add uuid of impact assessment method \n",
    "impact_method_uuid = '60cb71ff-0ef0-4e6c-9ce7-c885d921dd15'\n",
    "\n",
    "result = lca_prommis.run_analysis(netl, ps_uuid, impact_method_uuid)"
   ]
  },
  {
   "cell_type": "markdown",
   "id": "5e5f0a21",
   "metadata": {},
   "source": [
    "##### <span style=\"color:black; font-weight:bold\"> Generate Results - Total Environmental Impact </span> "
   ]
  },
  {
   "cell_type": "code",
   "execution_count": null,
   "id": "7020f5e5",
   "metadata": {},
   "outputs": [],
   "source": [
    "# use the generate_total_results function to generate the total environmental impacts\n",
    "# this also stores the results in a csv stored in the output folder\n",
    "total_impacts = lca_prommis.generate_total_results(result)\n",
    "total_impacts"
   ]
  },
  {
   "cell_type": "markdown",
   "id": "36648ebe",
   "metadata": {},
   "source": [
    "##### <span style=\"color:black; font-weight:bold\"> Generate Results - Contribution Tree </span> "
   ]
  },
  {
   "cell_type": "code",
   "execution_count": null,
   "id": "1af1df7a",
   "metadata": {},
   "outputs": [],
   "source": [
    "# use the generate_contribution_tree to generate the results by category\n",
    "# here we have to determine the number of nodes and levels in the generates tree\n",
    "# the number of nodes reflects the number of child/constituting nodes to be expanded (e.g., electricity, heat, sulfuric acic, etc.)\n",
    "# selecting three nodes will show the top three contributors only\n",
    "max_expand_nodes = 5 # this is an example and the user can change this\n",
    "# the number of levels reflects the number of steps away from the main product\n",
    "max_expand_levels = 2\n",
    "# Note: this step will store the results for each impact cateogory in a separate excel file\n",
    "lca_prommis.generate_contribution_tree(netl, max_expand_levels, max_expand_nodes)"
   ]
  }
 ],
 "metadata": {
  "kernelspec": {
   "display_name": "Python 3 (ipykernel)",
   "language": "python",
   "name": "python3"
  },
  "language_info": {
   "codemirror_mode": {
    "name": "ipython",
    "version": 3
   },
   "file_extension": ".py",
   "mimetype": "text/x-python",
   "name": "python",
   "nbconvert_exporter": "python",
   "pygments_lexer": "ipython3",
   "version": "3.13.5"
  }
 },
 "nbformat": 4,
 "nbformat_minor": 5
}
