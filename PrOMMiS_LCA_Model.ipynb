{
 "cells": [
  {
   "cell_type": "markdown",
   "id": "d67c5d88",
   "metadata": {},
   "source": [
    "# **<span style=\"font-size:1em;\">PrOMMiS LCA Integration: Environmental Life Cycle Assessment Using PrOMMiS Modeling Results</span>**"
   ]
  },
  {
   "cell_type": "markdown",
   "id": "abd8a7ae",
   "metadata": {},
   "source": [
    "## Introduction\n",
    "\n",
    "This document demonstrates the application of Life Cycle Assessment (LCA) methodology to the optimized results from the PrOMMiS model.  \n",
    "This Jupyter Notebook presents an example LCA application to the West Kentucky No.13 Coal Refuse Flowsheet optimized in the PrOMMiS model.\n",
    "\n",
    "**Useful notes, definitions, and links:**\n",
    "- **PrOMMiS model:** Process Optimization and Modeling for Minerals Sustainability initiative, led by the U.S. Department of Energy (DOE), specifically under NETL (National Energy Technology Laboratory).\n",
    "- **PrOMMiS public GitHub Repository:** [https://github.com/prommis/prommis/tree/main](https://github.com/prommis/prommis/tree/main)\n",
    "- **UKy Flowsheet Code:** [https://github.com/prommis/prommis/blob/main/src/prommis/uky/uky_flowsheet.py](https://github.com/prommis/prommis/blob/main/src/prommis/uky/uky_flowsheet.py)"
   ]
  },
  {
   "cell_type": "markdown",
   "id": "8e0f4143",
   "metadata": {},
   "source": [
    "<div style=\"text-align: center;\">\n",
    "    <img src=\"images\\uky_flowsheet.png\" width=\"1000\"/>\n",
    "</div>"
   ]
  },
  {
   "cell_type": "markdown",
   "id": "a56d543d",
   "metadata": {},
   "source": [
    "## Step 1: Import the necessary tools"
   ]
  },
  {
   "cell_type": "code",
   "execution_count": 1,
   "id": "18ef7b90",
   "metadata": {},
   "outputs": [],
   "source": [
    "from src import prommis_LCA_conversions"
   ]
  },
  {
   "cell_type": "markdown",
   "id": "1f5d286a",
   "metadata": {},
   "source": [
    "## Step 2: Run PrOMMiS Optimization Model for the UKy flowsheet   "
   ]
  },
  {
   "cell_type": "code",
   "execution_count": null,
   "id": "9f0e9790",
   "metadata": {},
   "outputs": [],
   "source": []
  },
  {
   "cell_type": "markdown",
   "id": "bab72eee",
   "metadata": {},
   "source": [
    "## Step 3: Extract and Review PrOMMiS Results"
   ]
  },
  {
   "cell_type": "code",
   "execution_count": null,
   "id": "0515b888",
   "metadata": {},
   "outputs": [],
   "source": []
  },
  {
   "cell_type": "markdown",
   "id": "b2c4312d",
   "metadata": {},
   "source": [
    "## Step 4: Organize, Categorize, and Covert PrOMMiS Results to LCA Relevant Flows"
   ]
  },
  {
   "cell_type": "code",
   "execution_count": null,
   "id": "4be3e682",
   "metadata": {},
   "outputs": [],
   "source": []
  },
  {
   "cell_type": "markdown",
   "id": "9c866844",
   "metadata": {},
   "source": [
    "## Step 5: Review Main Inputs/Outputs and Select Functional Unit"
   ]
  },
  {
   "cell_type": "code",
   "execution_count": null,
   "id": "9c307bb1",
   "metadata": {},
   "outputs": [],
   "source": []
  },
  {
   "cell_type": "markdown",
   "id": "468b3002",
   "metadata": {},
   "source": [
    "## Step 6: Normalize Flows to the Selected Functional Unit"
   ]
  },
  {
   "cell_type": "code",
   "execution_count": null,
   "id": "537e897e",
   "metadata": {},
   "outputs": [],
   "source": []
  }
 ],
 "metadata": {
  "kernelspec": {
   "display_name": "prommis_env",
   "language": "python",
   "name": "python3"
  },
  "language_info": {
   "codemirror_mode": {
    "name": "ipython",
    "version": 3
   },
   "file_extension": ".py",
   "mimetype": "text/x-python",
   "name": "python",
   "nbconvert_exporter": "python",
   "pygments_lexer": "ipython3",
   "version": "3.13.5"
  }
 },
 "nbformat": 4,
 "nbformat_minor": 5
}
