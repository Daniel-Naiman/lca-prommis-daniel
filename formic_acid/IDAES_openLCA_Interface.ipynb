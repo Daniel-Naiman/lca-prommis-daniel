{
 "cells": [
  {
   "cell_type": "code",
   "execution_count": null,
   "id": "1ef766bf-992b-4f3b-9cf9-355f38fa07da",
   "metadata": {},
   "outputs": [],
   "source": [
    "# Import the IDAES Formic Acid Production Model\n",
    "from flowsheet_NETL_tech import main_steady_state"
   ]
  },
  {
   "cell_type": "code",
   "execution_count": null,
   "id": "84be07c0-542f-4576-8c2e-d46e16402e87",
   "metadata": {},
   "outputs": [],
   "source": [
    "# IPC server started for the openLCA database"
   ]
  },
  {
   "cell_type": "code",
   "execution_count": null,
   "id": "160db0e2-b047-40e0-97af-0e564e8e65af",
   "metadata": {},
   "outputs": [],
   "source": [
    "# olca-ipc - a Python package for inter-process communication (IPC) with openLCA is installed and imported (v2.4.0) \n",
    "# With this package, it is possible to call functions of openLCA and process their results in Python.\n",
    "import olca_ipc as ipc\n",
    "import olca_schema as o\n",
    "import pandas as pd"
   ]
  },
  {
   "cell_type": "code",
   "execution_count": null,
   "id": "be8203ce-1f1e-4140-a597-0b20448d11a9",
   "metadata": {
    "scrolled": true
   },
   "outputs": [],
   "source": [
    "#Set up and run IDAES steady state model\n",
    "m = main_steady_state(optimize=False, dev_mode=True)"
   ]
  },
  {
   "cell_type": "code",
   "execution_count": null,
   "id": "00e35d80-1ceb-4711-9848-e0517c135f8a",
   "metadata": {},
   "outputs": [],
   "source": [
    "# Establish connection with the IPC server\n",
    "client = ipc.Client(8080)"
   ]
  },
  {
   "cell_type": "code",
   "execution_count": null,
   "id": "cedef6d2-df68-49d8-837d-e085311812f4",
   "metadata": {},
   "outputs": [],
   "source": [
    "# Access the product system associated with the FA production process for which impact assessment needs to be run\n",
    "product_system = client.find(model_type=o.ProductSystem, name=\"FA Production Process\")\n",
    "\n",
    "# Access the impact assessment method required to calculate the LCA metrics\n",
    "impact_assesment_method = client.find(model_type=o.ImpactMethod, name=\"TRACI 2.1 (NETL) - AR6 2023\")"
   ]
  },
  {
   "cell_type": "code",
   "execution_count": null,
   "id": "58dbda4c-18f2-4ab9-bb33-25d4fabcd9a1",
   "metadata": {},
   "outputs": [],
   "source": [
    "# Create a calculation setup for the product system under consideration\n",
    "calculation_setup = o.CalculationSetup(target=product_system, impact_method=impact_assesment_method)"
   ]
  },
  {
   "cell_type": "code",
   "execution_count": null,
   "id": "3897002a-9cdb-4c35-a317-17dbe9a8e8f6",
   "metadata": {},
   "outputs": [],
   "source": [
    "#Create a function for transferring simulation results from IDAES to openLCA through input parameter redefinitions\n",
    "\n",
    "# Note D2O is H2O itself (a duplicate component of H2O). This component is used in the streams and channels that \n",
    "# originate from the flue gas entering the process, due to limitations in the current version of the FA production model \n",
    "# in IDAES (specifically the electrolyzer unit model)\n",
    "\n",
    "def data_transfer_idaes_openLCA(m):\n",
    "    # Transfer FA product flowrate (mol/s)\n",
    "    redef1 = o.ParameterRedef()\n",
    "    redef1.name = 'fa_product_out'\n",
    "    redef1.value = m.fs.acid_separator.acid_outlet.flow_mol[0].value\n",
    "    \n",
    "    # Transfer feedwater flowrate (mol/s)\n",
    "    redef2 = o.ParameterRedef()\n",
    "    redef2.name = 'feed_water_flow'\n",
    "    redef2.value = m.fs.h2o_mixer.feed_inlet.flow_mol[0].value\n",
    "    \n",
    "    # Transfer CO2 mole fraction in flue gas\n",
    "    redef3 = o.ParameterRedef()\n",
    "    redef3.name = 'fg_co2molfrac'\n",
    "    redef3.value = m.fs.membrane.feed_side_inlet.mole_frac_comp[0,'CO2'].value\n",
    "    \n",
    "    # Transfer O2 mole fraction in flue gas\n",
    "    redef4 = o.ParameterRedef()\n",
    "    redef4.name = 'fg_o2_molfrac'\n",
    "    redef4.value = m.fs.membrane.feed_side_inlet.mole_frac_comp[0,'O2'].value\n",
    "\n",
    "    # Transfer H2O mole fraction in flue gas\n",
    "    redef5 = o.ParameterRedef()\n",
    "    redef5.name = 'fg_h2o_molfrac'\n",
    "    redef5.value = m.fs.membrane.feed_side_inlet.mole_frac_comp[0,'D2O'].value\n",
    "    \n",
    "    # Transfer Ar mole fraction in flue gas\n",
    "    redef6 = o.ParameterRedef()\n",
    "    redef6.name = 'fg_ar_molfrac'\n",
    "    redef6.value = m.fs.membrane.feed_side_inlet.mole_frac_comp[0,'Ar'].value\n",
    "    \n",
    "    # Transfer N2 mole fraction in flue gas\n",
    "    redef7 = o.ParameterRedef()\n",
    "    redef7.name = 'fg_n2_molfrac'\n",
    "    redef7.value = m.fs.membrane.feed_side_inlet.mole_frac_comp[0,'N2'].value\n",
    "    \n",
    "    # Transfer flue gas flowrate (mol/s)\n",
    "    redef8 = o.ParameterRedef()\n",
    "    redef8.name = 'fg_flow'\n",
    "    redef8.value = m.fs.membrane.feed_side_inlet.flow_mol[0].value\n",
    "    \n",
    "    # Transfer makeup water flowrate (mol/s)\n",
    "    redef9 = o.ParameterRedef()\n",
    "    redef9.name = 'makeup_water_flow'\n",
    "    redef9.value = m.fs.lean_fa_mixer.makeup_inlet.flow_mol[0].value\n",
    "    \n",
    "    # Transfer mole fractions of CO2, N2, O2, H2O, Ar along with the total flowrate (mol/s) of the emission from the CO2 membrane \n",
    "    redef10 = o.ParameterRedef()\n",
    "    redef10.name = 'membrane_emission_co2molfrac'\n",
    "    redef10.value = m.fs.membrane.feed_side_outlet.mole_frac_comp[0, 'CO2'].value\n",
    "\n",
    "    redef11 = o.ParameterRedef()\n",
    "    redef11.name = 'membrane_emission_n2molfrac'\n",
    "    redef11.value = m.fs.membrane.feed_side_outlet.mole_frac_comp[0, 'N2'].value\n",
    "    \n",
    "    redef12 = o.ParameterRedef()\n",
    "    redef12.name = 'membrane_emission_o2_molfrac'\n",
    "    redef12.value = m.fs.membrane.feed_side_outlet.mole_frac_comp[0, 'O2'].value\n",
    "    \n",
    "    redef13 = o.ParameterRedef()\n",
    "    redef13.name = 'membrane_emission_h2o_molfrac'\n",
    "    redef13.value = m.fs.membrane.feed_side_outlet.mole_frac_comp[0, 'D2O'].value\n",
    "    \n",
    "    redef14 = o.ParameterRedef()\n",
    "    redef14.name = 'membrane_emission_ar_molfrac'\n",
    "    redef14.value = m.fs.membrane.feed_side_outlet.mole_frac_comp[0, 'Ar'].value\n",
    "\n",
    "    redef15 = o.ParameterRedef()\n",
    "    redef15.name = 'membrane_emission_totmolflow'\n",
    "    redef15.value = m.fs.membrane.feed_side_outlet.flow_mol[0].value\n",
    "    \n",
    "    # Transfer mole fractions of O2, H2O, along with the total flowrate (mol/s) of the emission from the O2 flash separator\n",
    "    redef16 = o.ParameterRedef()\n",
    "    redef16.name = 'o2separator_emission_o2molfrac'\n",
    "    redef16.value = m.fs.o2_separator.o2_outlet.mole_frac_comp[0, 'O2'].value\n",
    "    \n",
    "    redef17 = o.ParameterRedef()\n",
    "    redef17.name = 'o2separator_emission_totmolflow'\n",
    "    redef17.value = m.fs.o2_separator.o2_outlet.flow_mol[0].value\n",
    "    \n",
    "    redef18 = o.ParameterRedef()\n",
    "    redef18.name = 'o2separator_emissionh2omolfrac'\n",
    "    redef18.value = m.fs.o2_separator.o2_outlet.mole_frac_comp[0, 'H2O'].value\n",
    "    \n",
    "    # Transfer mole fractions of CO2 ,N2, O2, H2O. Ar along with the total flowrate (mol/s) of the emission from the PSA unit \n",
    "    redef19 = o.ParameterRedef()\n",
    "    redef19.name = 'psa_emission_co2molfrac'\n",
    "    redef19.value = m.fs.co2_separator.n2_outlet.mole_frac_comp[0, 'CO2'].value\n",
    "\n",
    "    redef20 = o.ParameterRedef()\n",
    "    redef20.name = 'psa_emission_n2molfrac'\n",
    "    redef20.value = m.fs.co2_separator.n2_outlet.mole_frac_comp[0, 'N2'].value\n",
    "    \n",
    "    redef21 = o.ParameterRedef()\n",
    "    redef21.name = 'psa_emission_o2molfrac'\n",
    "    redef21.value = m.fs.co2_separator.n2_outlet.mole_frac_comp[0, 'O2'].value\n",
    "    \n",
    "    redef22 = o.ParameterRedef()\n",
    "    redef22.name = 'psa_emission_h2omolfrac'\n",
    "    redef22.value = m.fs.co2_separator.n2_outlet.mole_frac_comp[0, 'D2O'].value\n",
    "    \n",
    "    redef23 = o.ParameterRedef()\n",
    "    redef23.name = 'psa_emission_armolfrac'\n",
    "    redef23.value = m.fs.co2_separator.n2_outlet.mole_frac_comp[0, 'Ar'].value\n",
    "    \n",
    "    redef24 = o.ParameterRedef()\n",
    "    redef24.name = 'psa_emission_totmolflow'\n",
    "    redef24.value = m.fs.co2_separator.n2_outlet.flow_mol[0].value\n",
    "\n",
    "    # Transfer the total electricity required by the FA production process (MWh/day)\n",
    "    redef25 = o.ParameterRedef()\n",
    "    redef25.name = 'total_electricity_req'\n",
    "    redef25.value = m.fs.electricity[0].value\n",
    "    \n",
    "    # Specify the parameter redefinitions in the calculation setup\n",
    "    return [redef1, redef2, redef3, redef4, redef5, redef6, redef7, redef8, redef9, redef10, redef11, redef12, redef13, redef14, redef15, redef16, redef17, redef18, redef19, redef20, redef21, redef22, redef23, redef24, redef25]\n",
    "\n",
    "# Call the data transfer function to transfer the simulation data from IDAES to openLCA\n",
    "param_list = data_transfer_idaes_openLCA(m)\n",
    "calculation_setup.parameter_redefs = param_list"
   ]
  },
  {
   "cell_type": "code",
   "execution_count": null,
   "id": "e23b03cc-e491-47e4-9da0-781b932d26aa",
   "metadata": {},
   "outputs": [],
   "source": [
    "# Showcase the parameter values\n",
    "pd.DataFrame({\n",
    "    'name': [x.name for x in param_list],\n",
    "    'value': [x.value for x in param_list]\n",
    "})"
   ]
  },
  {
   "cell_type": "code",
   "execution_count": null,
   "id": "0aa6c2ab-91f0-442f-b610-94d79b2154c7",
   "metadata": {},
   "outputs": [],
   "source": [
    "# Run the calculation for the product system\n",
    "LCA_result = client.calculate(calculation_setup)\n",
    "LCA_result.wait_until_ready()"
   ]
  },
  {
   "cell_type": "code",
   "execution_count": null,
   "id": "b1de91f4-ae03-4fce-ae57-3149348325e1",
   "metadata": {},
   "outputs": [],
   "source": [
    "# Initialize empty lists for storing results.\n",
    "list_of_impact_results_tuples = []\n",
    "list_of_inventory_results_tuples = []\n",
    "list_of_impact_categories = []\n",
    "\n",
    "# Get the life cycle impact assessment and life cycle inventory analysis results\n",
    "imp_results = LCA_result.get_total_impacts()\n",
    "inv_results = LCA_result.get_total_flows()\n",
    "impact_categories = LCA_result.get_impact_categories()"
   ]
  },
  {
   "cell_type": "code",
   "execution_count": null,
   "id": "777a1895-1080-4b8f-80dc-1cc18b9ee165",
   "metadata": {},
   "outputs": [],
   "source": [
    "# Process the inventory results into a dataframe\n",
    "for inv_result in inv_results:\n",
    "    inv_tuple = ('baseline', inv_result.to_dict())\n",
    "    list_of_inventory_results_tuples.append(inv_tuple)\n",
    "\n",
    "inv_results_df = pd.DataFrame(\n",
    "    list_of_inventory_results_tuples,\n",
    "    columns=[\"scenario\", \"inv_result_dict\"]\n",
    ")"
   ]
  },
  {
   "cell_type": "code",
   "execution_count": null,
   "id": "dc4a39f8-0615-4d8b-88d4-476b7bad6149",
   "metadata": {},
   "outputs": [],
   "source": [
    "# Process the impact results into a dataframe\n",
    "for imp_result in imp_results:\n",
    "    imp_tuple = ('baseline', imp_result.to_dict())\n",
    "    list_of_impact_results_tuples.append(imp_tuple)\n",
    "\n",
    "imp_results_df = pd.DataFrame(\n",
    "    list_of_impact_results_tuples,\n",
    "    columns=[\"scenario\", \"imp_result_dict\"]\n",
    ")\n",
    "\n",
    "exploded_impacts_names = imp_results_df['imp_result_dict'].apply(pd.Series)[\"impactCategory\"].apply(pd.Series)[[\"name\", \"refUnit\"]]\n",
    "exploded_values = imp_results_df['imp_result_dict'].apply(pd.Series)[\"amount\"]\n",
    "\n",
    "# Put it all back together for a final df.\n",
    "final_results = pd.concat(\n",
    "    [imp_results_df[[\"scenario\"]],\n",
    "     exploded_impacts_names,\n",
    "     exploded_values],\n",
    "    axis=1\n",
    ")\n",
    "final_results.rename(columns={\"name\": \"impact_category\"}, inplace=True)\n",
    "final_results"
   ]
  },
  {
   "cell_type": "code",
   "execution_count": null,
   "id": "86f36086-f2d9-49cb-b75c-0e05d4cbf20a",
   "metadata": {},
   "outputs": [],
   "source": [
    "# Collect data from openLCA for Plot Global Warming Potential Contribution Results\n",
    "# Import and use the upstream tree function to access the upstream process names and contributions to the GWP\n",
    "import olca_ipc.utree as utree\n",
    "impact_categories = [x for x in LCA_result.get_impact_categories()]\n",
    "\n",
    "# Get the impact category corresponding to GWP\n",
    "impact_categories[2].name"
   ]
  },
  {
   "cell_type": "code",
   "execution_count": null,
   "id": "e8ba42da-f27e-47d1-8eaa-bdffaca3a22d",
   "metadata": {},
   "outputs": [],
   "source": [
    "gwp_tree=utree.of(LCA_result, impact_categories[2])"
   ]
  },
  {
   "cell_type": "code",
   "execution_count": null,
   "id": "cb82fcfe-60e5-486b-9126-c880fc8cb3e9",
   "metadata": {},
   "outputs": [],
   "source": [
    "# Explore the process connections and the individual contributions to the GWP from the upstream tree\n",
    "print(f\"{'FA Production Process Total'} : {gwp_tree.result}\") #will give the total GWP.\n",
    "print(f\"{gwp_tree.childs[0].provider.name} : {gwp_tree.childs[0].result}\") # will give the contribution of child 0.\n",
    "print(f\"{gwp_tree.childs[0].childs[0].provider.name} : {gwp_tree.childs[0].childs[0].result}\") # will give the contribution of child 0 of child 0.\n",
    "print(f\"{gwp_tree.childs[0].childs[1].provider.name} : {gwp_tree.childs[0].childs[1].result}\") # will give the contribution of child 1 of child 0.\n",
    "\n",
    "print(f\"{gwp_tree.childs[1].provider.name} : {gwp_tree.childs[1].result}\") # will give the contribution of child 1.\n",
    "print(f\"{gwp_tree.childs[2].provider.name} : {gwp_tree.childs[2].result}\") # will give the contribution of child 2.\n",
    "\n",
    "fa_production_process_gwp_contribution = gwp_tree.result - gwp_tree.childs[0].result - gwp_tree.childs[1].result - gwp_tree.childs[2].result\n",
    "ngcc_electricity_generation_gwp_contribution = gwp_tree.childs[0].result - gwp_tree.childs[0].childs[0].result - gwp_tree.childs[0].childs[1].result\n",
    "\n",
    "print(f\"{gwp_tree.provider.name} : {fa_production_process_gwp_contribution}\") # will give the contribution of the FA production process under consideration\n",
    "print(f\"{'NGCC Power Plant Operation'} : {ngcc_electricity_generation_gwp_contribution}\") # will give the contribution of the NGCC power plant operation"
   ]
  },
  {
   "cell_type": "code",
   "execution_count": null,
   "id": "3b67f61d-aefc-458c-a566-ba7d69502562",
   "metadata": {},
   "outputs": [],
   "source": [
    "# Plot the GWP contribution of different processes\n",
    "import matplotlib.pyplot as plt\n",
    "\n",
    "def plot_gwp_contributions(gwp_tree):\n",
    "    fa_production_process_gwp_contribution = gwp_tree.result - gwp_tree.childs[0].result - gwp_tree.childs[1].result - gwp_tree.childs[2].result\n",
    "    ngcc_electricity_generation_gwp_contribution = gwp_tree.childs[0].result - gwp_tree.childs[0].childs[0].result - gwp_tree.childs[0].childs[1].result\n",
    "    list_of_all_contributors = [gwp_tree.provider.name, 'NGCC Power Plant Operation', gwp_tree.childs[0].childs[0].provider.name, gwp_tree.childs[0].childs[1].provider.name, gwp_tree.childs[1].provider.name, 'Water Pretreatment Units']\n",
    "    gwp_of_all_contributors = [fa_production_process_gwp_contribution, ngcc_electricity_generation_gwp_contribution, gwp_tree.childs[0].childs[0].result, gwp_tree.childs[0].childs[1].result, gwp_tree.childs[1].result , gwp_tree.childs[2].result]\n",
    "\n",
    "    plt.figure(figsize = (22,6))\n",
    "    plt.bar(list_of_all_contributors, gwp_of_all_contributors)\n",
    "    plt.ylabel('GWP Contribution (100 yr): kg CO2 equivalent/kg Formic Acid')\n",
    "    plt.title('GWP contribution of different processes to the Formic Acid Production Product System')\n",
    "    plt.tight_layout()\n",
    "    plt.show()\n",
    "\n",
    "plot_gwp_contributions(gwp_tree)"
   ]
  },
  {
   "cell_type": "code",
   "execution_count": null,
   "id": "5808895f-0d8e-4ebd-ba3f-980472f87629",
   "metadata": {},
   "outputs": [],
   "source": [
    "# Dispose the LCA result to release allocated resources of that result\n",
    "LCA_result.dispose()"
   ]
  },
  {
   "cell_type": "code",
   "execution_count": null,
   "id": "abb318c3-0fad-480a-a7ee-62d23356f46f",
   "metadata": {},
   "outputs": [],
   "source": [
    "# Perform a sensitivity study by varying the design and operating conditions of the FA production process\n",
    "from idaes.core.solvers import get_solver\n",
    "from pyomo.environ import value\n",
    "\n",
    "# Vary the area of the CO2 capture membrane and simulate the interface iteratively\n",
    "membrane_area = [1e8, 1.5e8, 2e8, 2.5e8]\n",
    "LCOP_values = []\n",
    "GWP_values = []\n",
    "for mem_area in membrane_area:\n",
    "    m.fs.membrane.area.fix(mem_area) # cm2\n",
    "    solver = get_solver(\"ipopt\")\n",
    "    results = solver.solve(m, tee = False)\n",
    "    \n",
    "    calculation_setup.parameter_redefs = data_transfer_idaes_openLCA(m)\n",
    "\n",
    "    # Run the calculation for the product system\n",
    "    LCA_result = client.calculate(calculation_setup)\n",
    "    LCA_result.wait_until_ready()\n",
    "\n",
    "    gwp_tree=utree.of(LCA_result, impact_categories[2])\n",
    "\n",
    "    GWP_values.append(gwp_tree.result)\n",
    "    LCOP_values.append(value(m.fs.costing.cost_of_production)*1e6)\n",
    "\n",
    "    LCA_result.dispose()"
   ]
  },
  {
   "cell_type": "code",
   "execution_count": null,
   "id": "24aa695c-ec53-4532-b0ff-5e154512386c",
   "metadata": {},
   "outputs": [],
   "source": [
    "# Plot the sensitivity study results\n",
    "# GWP variation with membrane area\n",
    "plt.figure(figsize = (22,6))\n",
    "plt.scatter(membrane_area, GWP_values)\n",
    "plt.xlabel('Membrane Area cm2')\n",
    "plt.ylabel('GWP Contribution (100 yr): kg CO2 equivalent/kg Formic Acid')\n",
    "plt.title('GWP values at different carbon capture membrane areas in the Formic Acid Production Product System')\n",
    "plt.tight_layout()\n",
    "plt.show()"
   ]
  },
  {
   "cell_type": "code",
   "execution_count": null,
   "id": "b2a01387-df9a-40ee-b307-a06534c77021",
   "metadata": {},
   "outputs": [],
   "source": [
    "# LCOP with membrane area\n",
    "plt.figure(figsize = (22,6))\n",
    "plt.scatter(membrane_area, LCOP_values)\n",
    "plt.xlabel('Membrane Area (cm2)')\n",
    "plt.ylabel('Levelized cost of product (LCOP) $/kg Formic Acid')\n",
    "plt.title('LCOP values at different carbon capture membrane areas in the Formic Acid Production Product System')\n",
    "plt.tight_layout()\n",
    "plt.show()"
   ]
  },
  {
   "cell_type": "code",
   "execution_count": null,
   "id": "8d48197a-9098-49a5-b740-7ee8df2db6e9",
   "metadata": {},
   "outputs": [],
   "source": []
  }
 ],
 "metadata": {
  "kernelspec": {
   "display_name": "Python 3 (ipykernel)",
   "language": "python",
   "name": "python3"
  },
  "language_info": {
   "codemirror_mode": {
    "name": "ipython",
    "version": 3
   },
   "file_extension": ".py",
   "mimetype": "text/x-python",
   "name": "python",
   "nbconvert_exporter": "python",
   "pygments_lexer": "ipython3",
   "version": "3.11.11"
  }
 },
 "nbformat": 4,
 "nbformat_minor": 5
}
