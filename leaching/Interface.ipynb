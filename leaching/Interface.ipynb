{
 "cells": [
  {
   "cell_type": "markdown",
   "id": "38dfee5e-2317-4a93-adbe-fbb1f9edfc04",
   "metadata": {},
   "source": [
    "# LCA-PrOMMiS Integration\n",
    "This notebook examines how to interface openLCA with [PrOMMiS](https://prommis.readthedocs.io/en/latest/) for critical mineral [leaching](https://github.com/prommis/prommis/tree/main/src/prommis/leaching) of coal refuse.\n"
   ]
  },
  {
   "cell_type": "code",
   "execution_count": null,
   "id": "b1fdcbe4-bda4-46f4-ad35-68c22973cd28",
   "metadata": {},
   "outputs": [],
   "source": [
    "# Import methods from the leaching flowsheet to build model.\n",
    "from prommis.leaching.leach_flowsheet import build_model\n",
    "from prommis.leaching.leach_flowsheet import set_inputs\n",
    "from prommis.leaching.leach_flowsheet import set_scaling\n",
    "\n",
    "# Import"
   ]
  },
  {
   "cell_type": "code",
   "execution_count": null,
   "id": "0b0c5b7d-6a54-40f1-ab6e-2f8c17464de9",
   "metadata": {},
   "outputs": [],
   "source": [
    "# Build the model.\n",
    "m = build_model()\n",
    "set_inputs(m)\n",
    "set_scaling(m)"
   ]
  },
  {
   "cell_type": "code",
   "execution_count": null,
   "id": "c6aa114b-6b37-4e3b-be3f-56e8743ad85d",
   "metadata": {},
   "outputs": [],
   "source": [
    "# Create a scaled version of the model to solve\n",
    "scaling = TransformationFactory(\"core.scale_model\")\n",
    "scaled_model = scaling.create_using(m, rename=False)\n",
    "\n",
    "# Initialize model\n",
    "initializer = LeachingTrainInitializer()\n",
    "initializer.initialize(scaled_model.fs.leach)\n",
    "\n",
    "# Solve scaled model\n",
    "solver = SolverFactory(\"ipopt\")\n",
    "solver.solve(scaled_model, tee=True)\n",
    "\n",
    "# Propagate results back to unscaled model\n",
    "scaling.propagate_solution(scaled_model, m)\n",
    "\n",
    "# Display some results\n",
    "m.fs.leach.liquid_outlet.display()\n",
    "m.fs.leach.solid_outlet.display()\n",
    "\n",
    "m.fs.leach.report()"
   ]
  },
  {
   "cell_type": "code",
   "execution_count": null,
   "id": "6ba6a764-58f9-4844-ba5e-b5522b5122d5",
   "metadata": {
    "scrolled": true
   },
   "outputs": [],
   "source": [
    "dir(m)"
   ]
  },
  {
   "cell_type": "code",
   "execution_count": null,
   "id": "bb7295b4-6ac1-4dbc-9cea-f6cb8bf652f4",
   "metadata": {
    "scrolled": true
   },
   "outputs": [],
   "source": [
    "m.pprint()"
   ]
  },
  {
   "cell_type": "markdown",
   "id": "aa14f965-0e64-49c7-8029-5843fb6ec640",
   "metadata": {},
   "source": [
    "# Appendix"
   ]
  },
  {
   "cell_type": "markdown",
   "id": "b30eba7b-dd8c-493f-925e-176719cc71d0",
   "metadata": {},
   "source": [
    "## Learning Pyomo\n",
    "To understand the underlying optimization for PrOMMiS.\n",
    "See [here](https://jckantor.github.io/ND-Pyomo-Cookbook/notebooks/01.02-Running-Pyomo-on-Google-Colab.html)."
   ]
  },
  {
   "cell_type": "code",
   "execution_count": null,
   "id": "1e4acf65-b23b-4b86-902f-de0ca34255fa",
   "metadata": {},
   "outputs": [],
   "source": [
    "from pyomo.environ import ConcreteModel\n",
    "from pyomo.environ import NonNegativeReals\n",
    "from pyomo.environ import Constraint\n",
    "from pyomo.environ import Var\n",
    "from pyomo.environ import Objective\n",
    "from pyomo.environ import maximize\n",
    "from pyomo.environ import SolverFactory\n",
    "\n",
    "# create a model\n",
    "model = ConcreteModel()\n",
    "\n",
    "# declare decision variables\n",
    "model.x = Var(domain=NonNegativeReals)\n",
    "model.y = Var(domain=NonNegativeReals)\n",
    "\n",
    "# declare objective\n",
    "model.profit = Objective(expr = 40*model.x + 30*model.y, sense=maximize)\n",
    "\n",
    "# declare constraints\n",
    "model.demand = Constraint(expr = model.x <= 40)\n",
    "model.laborA = Constraint(expr = model.x + model.y <= 80)\n",
    "model.laborB = Constraint(expr = 2*model.x + model.y <= 100)\n",
    "\n",
    "model.pprint()\n",
    "\n",
    "def display_solution(model):\n",
    "\n",
    "    # display solution\n",
    "    print('\\nProfit = ', model.profit())\n",
    "\n",
    "    print('\\nDecision Variables')\n",
    "    print('x = ', model.x.value)\n",
    "    print('y = ', model.y())\n",
    "\n",
    "    print('\\nConstraints')\n",
    "    print('Demand  = ', model.demand())\n",
    "    print('Labor A = ', model.laborA())\n",
    "    print('Labor B = ', model.laborB())"
   ]
  },
  {
   "cell_type": "code",
   "execution_count": null,
   "id": "946796b2-e244-4322-bad6-9ea7b6bb793f",
   "metadata": {},
   "outputs": [],
   "source": [
    "SolverFactory('clp').solve(model, tee=True).write()\n",
    "\n",
    "display_solution(model)"
   ]
  },
  {
   "cell_type": "code",
   "execution_count": null,
   "id": "27d791e0-e272-4f52-9939-15e78f911619",
   "metadata": {},
   "outputs": [],
   "source": [
    "SolverFactory('ipopt').solve(model, tee=True).write()\n",
    "\n",
    "display_solution(model)"
   ]
  }
 ],
 "metadata": {
  "kernelspec": {
   "display_name": "Python 3 (ipykernel)",
   "language": "python",
   "name": "python3"
  },
  "language_info": {
   "codemirror_mode": {
    "name": "ipython",
    "version": 3
   },
   "file_extension": ".py",
   "mimetype": "text/x-python",
   "name": "python",
   "nbconvert_exporter": "python",
   "pygments_lexer": "ipython3",
   "version": "3.11.11"
  }
 },
 "nbformat": 4,
 "nbformat_minor": 5
}
